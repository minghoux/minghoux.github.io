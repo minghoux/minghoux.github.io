{
 "cells": [
  {
   "cell_type": "markdown",
   "metadata": {},
   "source": [
    "## This is a title\n",
    "#### Writing a markdown cell!\n",
    "Some text *here*\n",
    "- some bullet point\n",
    "- 2nd point"
   ]
  },
  {
   "cell_type": "code",
   "execution_count": 1,
   "metadata": {
    "collapsed": false
   },
   "outputs": [
    {
     "name": "stdout",
     "output_type": "stream",
     "text": [
      "Hello, Ming\n",
      "\n"
     ]
    }
   ],
   "source": [
    "my_name = \"Ming\"\n",
    "hello = \"Hello, \" + my_name\n",
    "print(hello, end=\"\\n\\n\")\n",
    "x = 10"
   ]
  },
  {
   "cell_type": "markdown",
   "metadata": {},
   "source": [
    "Example 2: Some *loop* example"
   ]
  },
  {
   "cell_type": "code",
   "execution_count": 4,
   "metadata": {
    "collapsed": false
   },
   "outputs": [
    {
     "name": "stdout",
     "output_type": "stream",
     "text": [
      "j=1 x=66\n",
      "j=2 x=68\n",
      "j=3 x=71\n",
      "j=4 x=75\n"
     ]
    }
   ],
   "source": [
    "for j in range(1, 5):\n",
    "        x = x + j\n",
    "        print(\"j={0} x={1}\".format(j,x))"
   ]
  },
  {
   "cell_type": "code",
   "execution_count": null,
   "metadata": {
    "collapsed": true
   },
   "outputs": [],
   "source": []
  }
 ],
 "metadata": {
  "kernelspec": {
   "display_name": "Python 3",
   "language": "python",
   "name": "python3"
  },
  "language_info": {
   "codemirror_mode": {
    "name": "ipython",
    "version": 3
   },
   "file_extension": ".py",
   "mimetype": "text/x-python",
   "name": "python",
   "nbconvert_exporter": "python",
   "pygments_lexer": "ipython3",
   "version": "3.6.0"
  }
 },
 "nbformat": 4,
 "nbformat_minor": 2
}
